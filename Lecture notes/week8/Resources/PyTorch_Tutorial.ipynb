{
 "cells": [
  {
   "cell_type": "markdown",
   "metadata": {},
   "source": [
    "# PyTorch Tutorial"
   ]
  },
  {
   "cell_type": "markdown",
   "metadata": {},
   "source": [
    "Author: Jian Gao<br>"
   ]
  },
  {
   "cell_type": "markdown",
   "metadata": {},
   "source": [
    "Pytorch Document https://pytorch.org/docs/stable/index.html"
   ]
  },
  {
   "cell_type": "markdown",
   "metadata": {},
   "source": [
    "In this notebook, pytorch version is \"1.1.0\""
   ]
  },
  {
   "cell_type": "markdown",
   "metadata": {},
   "source": [
    "If you have not install Pytorch before, please follow below link:<br>\n",
    "https://pytorch.org/get-started/locally/"
   ]
  },
  {
   "cell_type": "markdown",
   "metadata": {},
   "source": [
    "## Import Pytorch"
   ]
  },
  {
   "cell_type": "code",
   "execution_count": 2,
   "metadata": {},
   "outputs": [],
   "source": [
    "import torch"
   ]
  },
  {
   "cell_type": "markdown",
   "metadata": {},
   "source": [
    "## Input of Pytorch "
   ]
  },
  {
   "cell_type": "markdown",
   "metadata": {},
   "source": [
    "In Pytorch, we use tensor as input"
   ]
  },
  {
   "cell_type": "code",
   "execution_count": 4,
   "metadata": {},
   "outputs": [
    {
     "data": {
      "text/plain": [
       "tensor([1, 2, 3])"
      ]
     },
     "execution_count": 4,
     "metadata": {},
     "output_type": "execute_result"
    }
   ],
   "source": [
    "X = [1, 2, 3]\n",
    "X = torch.tensor(X)\n",
    "X"
   ]
  },
  {
   "cell_type": "markdown",
   "metadata": {},
   "source": [
    "Some functions are samiliar with numpy, like ones, zeros"
   ]
  },
  {
   "cell_type": "code",
   "execution_count": 5,
   "metadata": {},
   "outputs": [
    {
     "data": {
      "text/plain": [
       "tensor([[1., 1., 1.],\n",
       "        [1., 1., 1.],\n",
       "        [1., 1., 1.]])"
      ]
     },
     "execution_count": 5,
     "metadata": {},
     "output_type": "execute_result"
    }
   ],
   "source": [
    "torch.ones(3, 3) # return 3x3 (matrix) tensor, all elements are one, float type"
   ]
  },
  {
   "cell_type": "code",
   "execution_count": 6,
   "metadata": {},
   "outputs": [
    {
     "data": {
      "text/plain": [
       "tensor([[0., 0., 0.],\n",
       "        [0., 0., 0.],\n",
       "        [0., 0., 0.]])"
      ]
     },
     "execution_count": 6,
     "metadata": {},
     "output_type": "execute_result"
    }
   ],
   "source": [
    "torch.zeros(3, 3) # return 3x3 (matrix) tensor, all elements are zero, float type"
   ]
  },
  {
   "cell_type": "markdown",
   "metadata": {},
   "source": [
    "## Basic CNN layer in Pytorch"
   ]
  },
  {
   "cell_type": "markdown",
   "metadata": {},
   "source": [
    "## Convolution Layer (2 dimensions)"
   ]
  },
  {
   "cell_type": "markdown",
   "metadata": {},
   "source": [
    "we can use torch.nn.Conv2d(in_channels, out_channels, kernel_size, stride=1, padding=0, dilation=1, groups=1, bias=True, padding_mode='zeros'), you can want to see more detail, see https://pytorch.org/docs/stable/nn.html?highlight=conv#torch.nn.Conv2d"
   ]
  },
  {
   "cell_type": "markdown",
   "metadata": {},
   "source": [
    "Now, if we have a 32x32x3 image, we want use 5x5x3 filter with stride = 1 to convolve, we will get 28x28x1 avtivation map, the depth of filter will same as the depth of image, if we want 6 different activation maps, we need 6 different 5x5x3 filters."
   ]
  },
  {
   "cell_type": "markdown",
   "metadata": {},
   "source": [
    "<img src = \"img/conv1.png\" width = \"450\" align = 'left'><img src = \"img/conv2.png\" width = \"450\" align = 'left'>"
   ]
  },
  {
   "cell_type": "markdown",
   "metadata": {},
   "source": [
    "images from cs231n slides"
   ]
  },
  {
   "cell_type": "markdown",
   "metadata": {},
   "source": [
    "### Create a virtural image with 32x32x3"
   ]
  },
  {
   "cell_type": "code",
   "execution_count": 21,
   "metadata": {},
   "outputs": [
    {
     "data": {
      "text/plain": [
       "torch.Size([32, 32, 3])"
      ]
     },
     "execution_count": 21,
     "metadata": {},
     "output_type": "execute_result"
    }
   ],
   "source": [
    "image = torch.randn(32, 32, 3) # random initial\n",
    "image.size() # print the size of image"
   ]
  },
  {
   "cell_type": "markdown",
   "metadata": {},
   "source": [
    "### Now, we need to define a 2-d convolution layer"
   ]
  },
  {
   "cell_type": "code",
   "execution_count": 22,
   "metadata": {},
   "outputs": [],
   "source": [
    "myfirstconv = torch.nn.Conv2d(3, 6, 5) # input channel is 3, output channel is 6, and using 5x5 filter or kernel\n",
    "# In 2 dimension convolution, channel represents depth, e.g. 5x5x3 image, the channel size is 3 "
   ]
  },
  {
   "cell_type": "markdown",
   "metadata": {},
   "source": [
    "In Pytorch, the input of convolution layer is defined as (N, $C_{in}$, $H_{in}$, $W_{in}$) "
   ]
  },
  {
   "cell_type": "markdown",
   "metadata": {},
   "source": [
    "N represents batch_size, now we have one image, so N = 1 <br>\n",
    "C represents the channel of image <br>\n",
    "H represents the height of image <br>\n",
    "W represents the width of image"
   ]
  },
  {
   "cell_type": "markdown",
   "metadata": {},
   "source": [
    "we can use function \"view()\" to reshape the tensor size, same as \"np.reshape()\""
   ]
  },
  {
   "cell_type": "code",
   "execution_count": 26,
   "metadata": {},
   "outputs": [
    {
     "data": {
      "text/plain": [
       "torch.Size([1, 3, 32, 32])"
      ]
     },
     "execution_count": 26,
     "metadata": {},
     "output_type": "execute_result"
    }
   ],
   "source": [
    "image = image.view(1, 3, 32, 32)\n",
    "image.size()"
   ]
  },
  {
   "cell_type": "markdown",
   "metadata": {},
   "source": [
    "### Then, we can feed our image to this convolution layer"
   ]
  },
  {
   "cell_type": "code",
   "execution_count": 27,
   "metadata": {},
   "outputs": [
    {
     "data": {
      "text/plain": [
       "torch.Size([1, 6, 28, 28])"
      ]
     },
     "execution_count": 27,
     "metadata": {},
     "output_type": "execute_result"
    }
   ],
   "source": [
    "myfirstconv(image).size()"
   ]
  },
  {
   "cell_type": "markdown",
   "metadata": {},
   "source": [
    "Finally, we get the output activation maps with size 1x6x28x28"
   ]
  },
  {
   "cell_type": "markdown",
   "metadata": {},
   "source": [
    "## Pooling Layer (2 dimensions)"
   ]
  },
  {
   "cell_type": "markdown",
   "metadata": {},
   "source": [
    "we can use torch.nn.MaxPool2d(kernel_size, stride=None, padding=0, dilation=1, return_indices=False, ceil_mode=False), you can want to see more detail, see https://pytorch.org/docs/stable/nn.html?highlight=maxpool2d#torch.nn.MaxPool2d"
   ]
  },
  {
   "cell_type": "markdown",
   "metadata": {},
   "source": [
    "<img src = \"img/pooling.png\" width = \"450\" align = 'left'>"
   ]
  },
  {
   "cell_type": "markdown",
   "metadata": {},
   "source": [
    "Image from COMP9517 slides "
   ]
  },
  {
   "cell_type": "markdown",
   "metadata": {},
   "source": [
    "### Create a small image with 4x4x1"
   ]
  },
  {
   "cell_type": "code",
   "execution_count": 36,
   "metadata": {},
   "outputs": [
    {
     "data": {
      "text/plain": [
       "tensor([[[[1., 1., 2., 4.],\n",
       "          [5., 6., 7., 8.],\n",
       "          [3., 2., 1., 0.],\n",
       "          [1., 2., 3., 4.]]]])"
      ]
     },
     "execution_count": 36,
     "metadata": {},
     "output_type": "execute_result"
    }
   ],
   "source": [
    "image = torch.tensor([[1., 1., 2., 4.], [5., 6., 7., 8.], [3., 2., 1., 0.], [1., 2., 3., 4.]])\n",
    "image = image.view(1, 1, 4, 4)\n",
    "image"
   ]
  },
  {
   "cell_type": "code",
   "execution_count": 37,
   "metadata": {},
   "outputs": [],
   "source": [
    "myfirstmaxpooling = torch.nn.MaxPool2d(2, stride = 2) # 2 means 2x2 filters or kernel"
   ]
  },
  {
   "cell_type": "code",
   "execution_count": 39,
   "metadata": {},
   "outputs": [
    {
     "data": {
      "text/plain": [
       "tensor([[[[6., 8.],\n",
       "          [3., 4.]]]])"
      ]
     },
     "execution_count": 39,
     "metadata": {},
     "output_type": "execute_result"
    }
   ],
   "source": [
    "myfirstmaxpooling(image)"
   ]
  },
  {
   "cell_type": "markdown",
   "metadata": {},
   "source": [
    "## Dropout Layer"
   ]
  },
  {
   "cell_type": "markdown",
   "metadata": {},
   "source": [
    "If we want 2 dimension dropout layer, we can use torch.nn.Dropout2d(p=0.5, inplace=False), you can want to see more detail, see https://pytorch.org/docs/stable/nn.html?highlight=dropout#torch.nn.Dropout2d <br>\n",
    "If we want 1 dimension dropout layer, we can use torch.nn.Dropout(p=0.5, inplace=False), you can want to see more detail, see https://pytorch.org/docs/stable/nn.html?highlight=dropout#torch.nn.Dropout <br>"
   ]
  },
  {
   "cell_type": "markdown",
   "metadata": {},
   "source": [
    "### Create a 1 dimension dropout layer with 50% dropout rate"
   ]
  },
  {
   "cell_type": "code",
   "execution_count": 20,
   "metadata": {},
   "outputs": [],
   "source": [
    "myfirstdropout = torch.nn.Dropout(p = 0.5) # p = 0.5 means 50% probability of an element to be zeroed"
   ]
  },
  {
   "cell_type": "code",
   "execution_count": 21,
   "metadata": {},
   "outputs": [
    {
     "name": "stdout",
     "output_type": "stream",
     "text": [
      "current x tensor([1., 2., 3., 4., 5.])\n",
      "after dropout tensor([ 2.,  0.,  6.,  0., 10.])\n"
     ]
    }
   ],
   "source": [
    "x = torch.tensor([1., 2., 3., 4., 5.])\n",
    "print(\"current x\", x)\n",
    "x = myfirstdropout(x)\n",
    "print(\"after dropout\", x)"
   ]
  },
  {
   "cell_type": "markdown",
   "metadata": {},
   "source": [
    "You can see some elemennts become zero. The reason the rest of element doubled is using dropout with p=0.5, we will lose half of these activations. And we deactivate dropout during testing.(https://discuss.pytorch.org/t/unclear-behaviour-of-dropout/22890/2)"
   ]
  },
  {
   "cell_type": "markdown",
   "metadata": {},
   "source": [
    "## ReLU Layer"
   ]
  },
  {
   "cell_type": "markdown",
   "metadata": {},
   "source": [
    "ReLU(x) = max(0, x)"
   ]
  },
  {
   "cell_type": "markdown",
   "metadata": {},
   "source": [
    "<img src = \"img/relu.png\" width = \"250\" align = 'left'>"
   ]
  },
  {
   "cell_type": "markdown",
   "metadata": {},
   "source": [
    "Image from Google"
   ]
  },
  {
   "cell_type": "code",
   "execution_count": 45,
   "metadata": {},
   "outputs": [],
   "source": [
    "myfirstRelu = torch.nn.ReLU()"
   ]
  },
  {
   "cell_type": "code",
   "execution_count": 46,
   "metadata": {},
   "outputs": [
    {
     "name": "stdout",
     "output_type": "stream",
     "text": [
      "tensor(5)\n",
      "tensor(100)\n",
      "tensor(0)\n"
     ]
    }
   ],
   "source": [
    "print(myfirstRelu(torch.tensor(5)))\n",
    "print(myfirstRelu(torch.tensor(100)))\n",
    "print(myfirstRelu(torch.tensor(-50)))"
   ]
  },
  {
   "cell_type": "markdown",
   "metadata": {},
   "source": [
    "### Fully Connection Layer"
   ]
  },
  {
   "cell_type": "markdown",
   "metadata": {},
   "source": [
    "we can use torch.nn.Linear(in_features, out_features, bias=True), you can want to see more detail, see https://pytorch.org/docs/stable/nn.html?highlight=linear#torch.nn.Linear"
   ]
  },
  {
   "cell_type": "markdown",
   "metadata": {},
   "source": [
    "in_features means the number of input neuros<br>\n",
    "out_features means the number of output neuros<br>\n",
    "In below image, the in_features is 5, the out_features is 3<br>"
   ]
  },
  {
   "cell_type": "markdown",
   "metadata": {},
   "source": [
    "<img src = \"img/linear.png\" width = \"200\">"
   ]
  },
  {
   "cell_type": "code",
   "execution_count": 25,
   "metadata": {},
   "outputs": [
    {
     "name": "stdout",
     "output_type": "stream",
     "text": [
      "input size: torch.Size([5])\n",
      "output size: torch.Size([3])\n"
     ]
    }
   ],
   "source": [
    "x = torch.randn(5)\n",
    "print(\"input size:\", x.size())\n",
    "myfirstlinear = torch.nn.Linear(5, 3)\n",
    "print(\"output size:\", myfirstlinear(x).size())"
   ]
  },
  {
   "cell_type": "markdown",
   "metadata": {},
   "source": [
    "## Now, we can create a very samll CNN network"
   ]
  },
  {
   "cell_type": "code",
   "execution_count": 11,
   "metadata": {},
   "outputs": [],
   "source": [
    "class SmallNetWork(torch.nn.Module):\n",
    "    def __init__(self):\n",
    "        super(SmallNetWork, self).__init__()\n",
    "        \n",
    "        # conv layers: feature extractor\n",
    "        # using nn.Sequential can concate layer together and more less code\n",
    "        self.conv_layers = torch.nn.Sequential(\n",
    "            torch.nn.Conv2d(1, 10, kernel_size = 5),\n",
    "            torch.nn.MaxPool2d(2),\n",
    "            torch.nn.ReLU(),\n",
    "            torch.nn.Conv2d(10, 20, kernel_size = 5),\n",
    "            torch.nn.Dropout2d(0.5),\n",
    "            torch.nn.MaxPool2d(2),\n",
    "            torch.nn.ReLU()\n",
    "        )\n",
    "        \n",
    "        # fc layers: classifier\n",
    "        self.fc_layers = torch.nn.Sequential(\n",
    "            torch.nn.Linear(320, 50),\n",
    "            torch.nn.ReLU(),\n",
    "            torch.nn.Dropout(0.5),\n",
    "            torch.nn.Linear(50, 10),\n",
    "        )\n",
    "\n",
    "    def forward(self, x):\n",
    "        x = self.conv_layers(x)\n",
    "        # flatten the final output of conv_layers\n",
    "        x = x.view(-1, 320)\n",
    "        x = self.fc_layers(x)\n",
    "        # softmax can output log probability of each potential classes\n",
    "        return torch.nn.functional.log_softmax(x, dim = 1)"
   ]
  },
  {
   "cell_type": "markdown",
   "metadata": {},
   "source": [
    "## Load CSV File"
   ]
  },
  {
   "cell_type": "code",
   "execution_count": 2,
   "metadata": {},
   "outputs": [],
   "source": [
    "import pandas as pd\n",
    "data = pd.read_csv(\"src/mnist_train.csv\")\n",
    "train_data = data[:2000]\n",
    "test_data = data[2000:2500]"
   ]
  },
  {
   "cell_type": "code",
   "execution_count": 3,
   "metadata": {},
   "outputs": [
    {
     "name": "stdout",
     "output_type": "stream",
     "text": [
      "# train data 2000\n",
      "# test data 500\n"
     ]
    }
   ],
   "source": [
    "print(\"# train data\", len(train_data))\n",
    "print(\"# test data\", len(test_data))"
   ]
  },
  {
   "cell_type": "code",
   "execution_count": 17,
   "metadata": {},
   "outputs": [],
   "source": [
    "train_label = train_data['label']\n",
    "train_label = torch.tensor(train_label)\n",
    "test_label = test_data['label']\n",
    "test_label = torch.tensor(test_label.to_numpy())"
   ]
  },
  {
   "cell_type": "markdown",
   "metadata": {},
   "source": [
    "## Preprocessing"
   ]
  },
  {
   "cell_type": "markdown",
   "metadata": {},
   "source": [
    "Normally, pixel value is in range [0, 255], we can do simple normalizatoin into [0, 1], it may let calculation faster and easier to converage"
   ]
  },
  {
   "cell_type": "code",
   "execution_count": 18,
   "metadata": {},
   "outputs": [],
   "source": [
    "train_data = train_data.drop([\"label\"], axis = 1)\n",
    "train_data = train_data.to_numpy() / 255\n",
    "test_data = test_data.drop([\"label\"], axis = 1)\n",
    "test_data = test_data.to_numpy() / 255"
   ]
  },
  {
   "cell_type": "markdown",
   "metadata": {},
   "source": [
    "## Put Data Into torch tensor"
   ]
  },
  {
   "cell_type": "code",
   "execution_count": 19,
   "metadata": {},
   "outputs": [],
   "source": [
    "train_data = torch.tensor(train_data, dtype = torch.float32).view(-1, 1, 28, 28)\n",
    "test_data = torch.tensor(test_data, dtype = torch.float32).view(-1, 1, 28, 28)"
   ]
  },
  {
   "cell_type": "markdown",
   "metadata": {},
   "source": [
    "## Main Function"
   ]
  },
  {
   "cell_type": "markdown",
   "metadata": {},
   "source": [
    "When you run below code, it may take few minutes to train the model"
   ]
  },
  {
   "cell_type": "code",
   "execution_count": 26,
   "metadata": {},
   "outputs": [
    {
     "name": "stdout",
     "output_type": "stream",
     "text": [
      "epoch: 50 loss: 0.8088286519050598\n",
      "epoch: 100 loss: 0.45997485518455505\n",
      "epoch: 150 loss: 0.3428522050380707\n",
      "epoch: 200 loss: 0.282133013010025\n",
      "epoch: 250 loss: 0.24708323180675507\n",
      "epoch: 300 loss: 0.18074654042720795\n"
     ]
    }
   ],
   "source": [
    "# define our model\n",
    "model = SmallNetWork()\n",
    "# define learning rate\n",
    "learning_rate = 1e-3\n",
    "# define optimizer, you can change to SGD or other optimizers\n",
    "optimizer = torch.optim.Adam(model.parameters(), lr = learning_rate)\n",
    "# define loss function, as this is classification problem, we can use CrossEntropy Loss function\n",
    "criterion = torch.nn.CrossEntropyLoss()\n",
    "\n",
    "for epoch in range(300):\n",
    "    # train mode\n",
    "    model.train()\n",
    "    y_pred = model(train_data)\n",
    "    # calculate loss\n",
    "    loss = criterion(y_pred, train_label)\n",
    "    # calculate backpropogation\n",
    "    loss.backward()\n",
    "    # update parameters\n",
    "    optimizer.step()\n",
    "    # reset our optimizer\n",
    "    optimizer.zero_grad()\n",
    "    # print loss\n",
    "    if (epoch + 1) % 50 == 0:\n",
    "        print(\"epoch:\", epoch + 1, \"loss:\", loss.item())"
   ]
  },
  {
   "cell_type": "code",
   "execution_count": 27,
   "metadata": {},
   "outputs": [],
   "source": [
    "model.eval() # test mode, will not use dropout\n",
    "test_pred = model(test_data)"
   ]
  },
  {
   "cell_type": "code",
   "execution_count": 28,
   "metadata": {},
   "outputs": [
    {
     "data": {
      "text/plain": [
       "torch.Size([500, 10])"
      ]
     },
     "execution_count": 28,
     "metadata": {},
     "output_type": "execute_result"
    }
   ],
   "source": [
    "test_pred.size()"
   ]
  },
  {
   "cell_type": "code",
   "execution_count": 29,
   "metadata": {},
   "outputs": [],
   "source": [
    "_, test_pred = torch.max(test_pred, dim = 1) # get highest probability classes as final result"
   ]
  },
  {
   "cell_type": "code",
   "execution_count": 30,
   "metadata": {},
   "outputs": [
    {
     "data": {
      "text/plain": [
       "torch.Size([500])"
      ]
     },
     "execution_count": 30,
     "metadata": {},
     "output_type": "execute_result"
    }
   ],
   "source": [
    "test_pred.size()"
   ]
  },
  {
   "cell_type": "code",
   "execution_count": 31,
   "metadata": {},
   "outputs": [],
   "source": [
    "import matplotlib.pyplot as plt\n",
    "import numpy as np\n",
    "%matplotlib inline\n",
    "\n",
    "def visualization(image, label, predict):\n",
    "    pixels = np.array(image, dtype = 'uint8')\n",
    "    image = image.reshape((28, 28))\n",
    "    plt.title(f'label is {label}, predict label is {predict}')\n",
    "    plt.imshow(image, cmap = 'gray')\n",
    "    plt.show()"
   ]
  },
  {
   "cell_type": "code",
   "execution_count": 32,
   "metadata": {},
   "outputs": [
    {
     "data": {
      "image/png": "[encoded data removed]",
      "text/plain": [
       "<Figure size 432x288 with 1 Axes>"
      ]
     },
     "metadata": {},
     "output_type": "display_data"
    }
   ],
   "source": [
    "visualization(test_data[10], test_label[10], test_pred[10])"
   ]
  },
  {
   "cell_type": "markdown",
   "metadata": {},
   "source": [
    "## Get accuracy"
   ]
  },
  {
   "cell_type": "code",
   "execution_count": 33,
   "metadata": {},
   "outputs": [
    {
     "name": "stdout",
     "output_type": "stream",
     "text": [
      "train acc: 93.8\n",
      "test acc: 91.0\n"
     ]
    }
   ],
   "source": [
    "model.eval() # will not use dropout\n",
    "train_pred = model(train_data)\n",
    "_, train_pred = torch.max(train_pred, dim = 1)\n",
    "print(\"train acc:\", round((train_label == train_pred).type(torch.float32).mean().item() * 100, 2))\n",
    "print(\"test acc:\", round((test_label == test_pred).type(torch.float32).mean().item() * 100, 2))"
   ]
  }
 ],
 "metadata": {
  "kernelspec": {
   "display_name": "Python 3",
   "language": "python",
   "name": "python3"
  },
  "language_info": {
   "codemirror_mode": {
    "name": "ipython",
    "version": 3
   },
   "file_extension": ".py",
   "mimetype": "text/x-python",
   "name": "python",
   "nbconvert_exporter": "python",
   "pygments_lexer": "ipython3",
   "version": "3.7.9"
  }
 },
 "nbformat": 4,
 "nbformat_minor": 2
}
