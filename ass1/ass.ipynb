{
 "cells": [
  {
   "cell_type": "code",
   "execution_count": 3,
   "metadata": {},
   "outputs": [
    {
     "data": {
      "image/png": "[encoded data removed]",
      "text/plain": [
       "<Figure size 432x288 with 1 Axes>"
      ]
     },
     "metadata": {
      "needs_background": "light"
     },
     "output_type": "display_data"
    }
   ],
   "source": [
    "# -*- coding: utf-8 -*-\n",
    "\"\"\"\n",
    "Created on Tue Sep 15 23:05:46 2020\n",
    "\n",
    "@author: \n",
    "\"\"\"\n",
    "\n",
    "#......IMPORT .........\n",
    "import argparse\n",
    "import cv2\n",
    "import numpy as np\n",
    "import matplotlib.pyplot as plt\n",
    "import random\n",
    "import copy\n",
    "\n",
    "img=cv2.imread(\"Sample_Rice_Image/rice_img2.png\",0)\n",
    "def task1(img):\n",
    "    e=0.001\n",
    "    t = random.randint(0,255)\n",
    "    #t = 30\n",
    "    time = 0\n",
    "    t_l=[]\n",
    "    time_l=[]\n",
    "    while True:\n",
    "        t_l.append(t)\n",
    "        time_l.append(time)\n",
    "        bi = img >= t\n",
    "        bi_inv = img < t\n",
    "        fore_pix = np.sum(bi)\n",
    "        back_pix = np.sum(bi_inv)\n",
    "        w0 = fore_pix / img.size\n",
    "        u0 = np.sum(img*bi) / fore_pix\n",
    "        w1 = back_pix / img.size\n",
    "        u1 = np.sum(img*bi_inv) / back_pix\n",
    "        if abs(t - (u0+u1)/2) <= e:\n",
    "            break\n",
    "        else:\n",
    "            t = (u0+u1)/2\n",
    "        time = time + 1\n",
    "    plt.xlabel('x axis Iteration')\n",
    "    plt.ylabel('y axis Threshold')\n",
    "    plt.plot(time_l,t_l)\n",
    "    plt.show()\n",
    "    for i in range(img.shape[0]):\n",
    "        for j in range(img.shape[1]):\n",
    "            if img[i][j] >= t:\n",
    "                img[i][j] = 255\n",
    "            else:\n",
    "                img[i][j] = 0\n",
    "    #ret,thresh = cv2.threshold(img,t,255,cv2.THRESH_BINARY)\n",
    "    return img,t\n",
    "    \n",
    "img,t = task1(img)    \n",
    "    \n",
    "    \n",
    "\n",
    "def task2(img):\n",
    "    new_img = []\n",
    "    for i in range(img.shape[0]+4):\n",
    "        new_img.append([])\n",
    "        for j in range(img.shape[1]+4):\n",
    "            new_img[i].append(0)\n",
    "    new_img = np.array(new_img,dtype = np.uint8)\n",
    "    for i in range(img.shape[0]):\n",
    "        for j in range(img.shape[1]):\n",
    "            new_img[i+2][j+2] = img[i][j]\n",
    "    #for i in range(3,10,2)\n",
    "    # median filter\n",
    "    c = copy.copy(new_img)\n",
    "    for i in range(2,new_img.shape[0]-2):\n",
    "        for j in range(2,new_img.shape[1]-2):\n",
    "            a = sorted([c[i-2][j-2],c[i-2][j-1],c[i-2][j],c[i-2][j+1],c[i-2][j+2],\n",
    "                        c[i-1][j-2],c[i-1][j-1],c[i-1][j],c[i-1][j+1],c[i-1][j+2],\n",
    "                        c[i][j-2],c[i][j-1],c[i][j],c[i][j+1],c[i][j+2],\n",
    "                        c[i+1][j-2],c[i+1][j-1],c[i+1][j],c[i+1][j+1],c[i+1][j+2],\n",
    "                        c[i+2][j-2],c[i+2][j-1],c[i+2][j],c[i+2][j+1],c[i+2][j+2]])\n",
    "            new_img[i][j] = a[12]\n",
    "\n",
    "   # First pass\n",
    "    img_c = copy.copy(new_img)\n",
    "    t = 1\n",
    "    d = {}\n",
    "    d[t] = t\n",
    "    for i in range(1,img_c.shape[0]-1):\n",
    "        for j in range(1,img_c.shape[1]-1):\n",
    "#             if img_c[i][j] > 0:\n",
    "#                 img_c[i][j]=t\n",
    "#     for i in range(1,img_c.shape[0]-1):\n",
    "#         for j in range(1,img_c.shape[1]-1):\n",
    "            if img_c[i][j] > 0:\n",
    "                if img_c[i-1][j-1] > 0 or img_c[i-1][j] > 0 or img_c[i-1][j+1] > 0 or img_c[i][j-1] > 0:\n",
    "                    a = [img_c[i-1][j-1],img_c[i-1][j],img_c[i-1][j+1],img_c[i][j-1]]\n",
    "                    a = [k for k in a if k > 0]\n",
    "                    img_c[i][j] = min(a)\n",
    "                else:\n",
    "                    img_c[i][j] = t\n",
    "                    t = t + 1\n",
    "                    d[t] = t\n",
    "    for i in range(1,img_c.shape[0]-1):\n",
    "        for j in range(1,img_c.shape[1]-1):\n",
    "            if img_c[i][j] > 0:\n",
    "                a = [img_c[i-1][j-1],img_c[i-1][j],img_c[i-1][j+1],\n",
    "                     img_c[i][j-1],img_c[i][j],img_c[i][j+1],\n",
    "                     img_c[i+1][j-1],img_c[i+1][j],img_c[i+1][j+1],d[img_c[i][j]]]\n",
    "                d[img_c[i][j]] = min([k for k in a if k > 0])\n",
    "    new_d = dict()\n",
    "    for keys,values in d.items():\n",
    "        new_d[values] = []\n",
    "    for keys,values in d.items():\n",
    "        new_d[values].append(keys)\n",
    "    key = sorted(new_d.keys())\n",
    "    key.reverse()\n",
    "    for i in key:\n",
    "        for j in new_d[i]:\n",
    "            if j != i and j in new_d.keys():\n",
    "                new_d[i].extend(new_d.pop(j))\n",
    "                \n",
    "    nums = len(new_d) - 1\n",
    "    \n",
    "    \n",
    "    \n",
    "    return new_img,nums \n",
    "    \n",
    "    \n",
    "    \n",
    "\n",
    "#def task3():\n",
    "    \n",
    "    \n",
    "    \n",
    "    \n",
    "\n",
    "    \n",
    "my_parser = argparse.ArgumentParser()\n",
    "my_parser.add_argument('-o','--OP_folder', type=str,help='Output folder name', default = 'OUTPUT')\n",
    "#my_parser.add_argument('-m','--min_area', type=int,action='store', required = True, help='Minimum pixel area to be occupied, to be considered a whole rice kernel')\n",
    "my_parser.add_argument('-f','--input_filename', type=str,action='store', required = True, help='Filename of image ')\n",
    "# Execute parse_args()\n",
    "args = my_parser.parse_args()"
   ]
  },
  {
   "cell_type": "code",
   "execution_count": 1,
   "metadata": {},
   "outputs": [],
   "source": [
    "import cv2\n",
    "import numpy as np\n",
    "import matplotlib.pyplot as plt\n",
    "import random\n",
    "import copy"
   ]
  },
  {
   "cell_type": "code",
   "execution_count": 96,
   "metadata": {},
   "outputs": [],
   "source": [
    "img=cv2.imread(\"Sample_Rice_Images_Updated/rice_img7.png\",0)"
   ]
  },
  {
   "cell_type": "code",
   "execution_count": 33,
   "metadata": {},
   "outputs": [],
   "source": [
    "img = cv2.putText(img,'3333',(0,0),cv2.FONT_HERSHEY_SIMPLEX,3,(255,255,255),2)"
   ]
  },
  {
   "cell_type": "code",
   "execution_count": 23,
   "metadata": {},
   "outputs": [],
   "source": [
    "img=cv2.imread(\"good.png\",0)"
   ]
  },
  {
   "cell_type": "code",
   "execution_count": 3,
   "metadata": {},
   "outputs": [],
   "source": [
    "img"
   ]
  },
  {
   "cell_type": "code",
   "execution_count": 38,
   "metadata": {},
   "outputs": [],
   "source": [
    "cv2.imshow('image',img)\n",
    "cv2.waitKey(0)\n",
    "cv2.destroyAllWindows()"
   ]
  },
  {
   "cell_type": "code",
   "execution_count": 97,
   "metadata": {},
   "outputs": [],
   "source": [
    "def otsu(img):\n",
    "    e=0.001\n",
    "    t = random.randint(0,255)\n",
    "    #t = 30\n",
    "    time = 0\n",
    "    t_l=[]\n",
    "    time_l=[]\n",
    "    while True:\n",
    "        t_l.append(t)\n",
    "        time_l.append(time)\n",
    "        bi = img >= t\n",
    "        bi_inv = img < t\n",
    "        fore_pix = np.sum(bi)\n",
    "        back_pix = np.sum(bi_inv)\n",
    "        if fore_pix == 0:\n",
    "            break\n",
    "        if back_pix == 0:\n",
    "            continue\n",
    "        w0 = fore_pix / img.size\n",
    "        u0 = np.sum(img*bi) / fore_pix\n",
    "        w1 = back_pix / img.size\n",
    "        u1 = np.sum(img*bi_inv) / back_pix\n",
    "        if abs(t - (u0+u1)/2) <= e:\n",
    "            break\n",
    "        else:\n",
    "            t = (u0+u1)/2\n",
    "        time = time + 1\n",
    "#     plt.xlabel('x axis Iteration')\n",
    "#     plt.ylabel('y axis Threshold')\n",
    "#     plt.plot(time_l,t_l)\n",
    "#     plt.show()\n",
    "    for i in range(img.shape[0]):\n",
    "        for j in range(img.shape[1]):\n",
    "            if img[i][j] >= t:\n",
    "                img[i][j] = 0\n",
    "            else:\n",
    "                img[i][j] = 255\n",
    "    #ret,thresh = cv2.threshold(img,t,255,cv2.THRESH_BINARY)\n",
    "    return img,t,time_l,t_l"
   ]
  },
  {
   "cell_type": "code",
   "execution_count": 98,
   "metadata": {
    "scrolled": true
   },
   "outputs": [],
   "source": [
    "img,t,x,y = otsu(img)"
   ]
  },
  {
   "cell_type": "code",
   "execution_count": 59,
   "metadata": {},
   "outputs": [
    {
     "data": {
      "text/plain": [
       "[0, 1, 2, 3, 4, 5]"
      ]
     },
     "execution_count": 59,
     "metadata": {},
     "output_type": "execute_result"
    }
   ],
   "source": [
    "x"
   ]
  },
  {
   "cell_type": "code",
   "execution_count": 44,
   "metadata": {},
   "outputs": [
    {
     "data": {
      "text/plain": [
       "int"
      ]
     },
     "execution_count": 44,
     "metadata": {},
     "output_type": "execute_result"
    }
   ],
   "source": [
    "type(int(y[1]))"
   ]
  },
  {
   "cell_type": "code",
   "execution_count": null,
   "metadata": {},
   "outputs": [],
   "source": [
    "c=[]\n",
    "for i in range(len(x,y)):\n",
    "    "
   ]
  },
  {
   "cell_type": "code",
   "execution_count": 64,
   "metadata": {},
   "outputs": [
    {
     "name": "stdout",
     "output_type": "stream",
     "text": [
      "244\n",
      "173.9901634718366\n",
      "152.81450139990412\n",
      "150.28308300744357\n",
      "149.4334029516252\n",
      "149.05691504202494\n"
     ]
    }
   ],
   "source": [
    "for xy in zip(x, y):\n",
    "    print(xy[1])"
   ]
  },
  {
   "cell_type": "code",
   "execution_count": 46,
   "metadata": {},
   "outputs": [],
   "source": [
    "for i in range(len(y)):\n",
    "    y[i] = round(y[i],2)"
   ]
  },
  {
   "cell_type": "code",
   "execution_count": 99,
   "metadata": {},
   "outputs": [
    {
     "data": {
      "image/png": "[encoded data removed]",
      "text/plain": [
       "<Figure size 864x576 with 1 Axes>"
      ]
     },
     "metadata": {
      "needs_background": "light"
     },
     "output_type": "display_data"
    }
   ],
   "source": [
    "plt.figure(figsize = (12,8))\n",
    "plt.xlabel('x axis Iteration')\n",
    "plt.ylabel('y axis Threshold')\n",
    "plt.plot(x, y)\n",
    "plt.xticks(range(len(x)))\n",
    "#for i in y:\n",
    "plt.plot(x,y,marker='o')\n",
    "for xy in zip(x,y):\n",
    "    plt.annotate('%.2f'%xy[1],xy=xy,xytext=(-10, 10),textcoords='offset points ')\n",
    "#plt.savefig(o0)\n",
    "plt.show()"
   ]
  },
  {
   "cell_type": "code",
   "execution_count": 114,
   "metadata": {},
   "outputs": [
    {
     "data": {
      "text/plain": [
       "[0, 1, 2, 3]"
      ]
     },
     "execution_count": 114,
     "metadata": {},
     "output_type": "execute_result"
    }
   ],
   "source": [
    "x"
   ]
  },
  {
   "cell_type": "code",
   "execution_count": null,
   "metadata": {},
   "outputs": [],
   "source": []
  },
  {
   "cell_type": "code",
   "execution_count": 39,
   "metadata": {},
   "outputs": [
    {
     "data": {
      "text/plain": [
       "148.6570737327494"
      ]
     },
     "execution_count": 39,
     "metadata": {},
     "output_type": "execute_result"
    }
   ],
   "source": [
    "t"
   ]
  },
  {
   "cell_type": "code",
   "execution_count": 42,
   "metadata": {},
   "outputs": [],
   "source": [
    "cv2.imshow('image',img)\n",
    "cv2.waitKey(0)\n",
    "cv2.destroyAllWindows()"
   ]
  },
  {
   "cell_type": "code",
   "execution_count": 101,
   "metadata": {},
   "outputs": [],
   "source": [
    "i = cv2.medianBlur(img,5)"
   ]
  },
  {
   "cell_type": "code",
   "execution_count": 19,
   "metadata": {},
   "outputs": [
    {
     "data": {
      "text/plain": [
       "148.6570737327494"
      ]
     },
     "execution_count": 19,
     "metadata": {},
     "output_type": "execute_result"
    }
   ],
   "source": [
    "t"
   ]
  },
  {
   "cell_type": "code",
   "execution_count": null,
   "metadata": {},
   "outputs": [],
   "source": []
  },
  {
   "cell_type": "code",
   "execution_count": 3,
   "metadata": {},
   "outputs": [
    {
     "name": "stdout",
     "output_type": "stream",
     "text": [
      "<class 'numpy.ndarray'>\n"
     ]
    },
    {
     "data": {
      "text/plain": [
       "array([[  0,   0,   0, ...,   0,   0,   0],\n",
       "       [  0,   0,   0, ...,   0,   0,   0],\n",
       "       [  0,   0, 255, ...,   0,   0,   0],\n",
       "       ...,\n",
       "       [  0,   0,   0, ...,   0,   0,   0],\n",
       "       [  0,   0,   0, ...,   0,   0,   0],\n",
       "       [  0,   0,   0, ...,   0,   0,   0]], dtype=uint8)"
      ]
     },
     "execution_count": 3,
     "metadata": {},
     "output_type": "execute_result"
    }
   ],
   "source": [
    "a = []\n",
    "for i in range(50):\n",
    "    a.append([])\n",
    "    for j in range(50):\n",
    "        a[i].append(0)\n",
    "a[2][2]=255\n",
    "a[2][3]=255\n",
    "a[3][3]=255\n",
    "a[4][3]=255\n",
    "a[2][4]=255\n",
    "a[2][5]=255\n",
    "#a[2][4]=255\n",
    "a[2][5]=255\n",
    "a = np.array(a,dtype = np.uint8)\n",
    "a.shape[1]\n",
    "print(type(a))\n",
    "a"
   ]
  },
  {
   "cell_type": "code",
   "execution_count": 50,
   "metadata": {},
   "outputs": [
    {
     "data": {
      "text/plain": [
       "array([[0, 0, 0, 0, 0, 0, 0, 0],\n",
       "       [0, 0, 0, 0, 0, 0, 0, 0],\n",
       "       [0, 0, 0, 0, 0, 0, 0, 0],\n",
       "       [0, 0, 0, 0, 0, 0, 0, 0],\n",
       "       [0, 0, 0, 0, 0, 0, 0, 0],\n",
       "       [0, 0, 0, 0, 0, 0, 0, 0]])"
      ]
     },
     "execution_count": 50,
     "metadata": {},
     "output_type": "execute_result"
    }
   ],
   "source": [
    "a"
   ]
  },
  {
   "cell_type": "code",
   "execution_count": 9,
   "metadata": {},
   "outputs": [
    {
     "name": "stdout",
     "output_type": "stream",
     "text": [
      "(804, 604) (800, 600)\n"
     ]
    }
   ],
   "source": [
    "new_img = []\n",
    "for i in range(img.shape[0]+4):\n",
    "    new_img.append([])\n",
    "    for j in range(img.shape[1]+4):\n",
    "        new_img[i].append(0)\n",
    "new_img = np.array(new_img,dtype = np.uint8)\n",
    "for i in range(img.shape[0]):\n",
    "    for j in range(img.shape[1]):\n",
    "        new_img[i+2][j+2] = img[i][j]\n",
    "for i in range\n",
    "print(new_img.shape,img.shape)"
   ]
  },
  {
   "cell_type": "code",
   "execution_count": null,
   "metadata": {},
   "outputs": [],
   "source": []
  },
  {
   "cell_type": "code",
   "execution_count": 29,
   "metadata": {},
   "outputs": [],
   "source": [
    "def task2(img):\n",
    "    new_img = []\n",
    "    for i in range(img.shape[0]+4):\n",
    "        new_img.append([])\n",
    "        for j in range(img.shape[1]+4):\n",
    "            new_img[i].append(255)\n",
    "    new_img = np.array(new_img,dtype = np.uint8)\n",
    "    for i in range(img.shape[0]):\n",
    "        for j in range(img.shape[1]):\n",
    "            new_img[i+2][j+2] = img[i][j]\n",
    "    #for i in range(3,10,2)\n",
    "    # median filter\n",
    "    c = copy.copy(new_img)\n",
    "    for i in range(2,new_img.shape[0]-2):\n",
    "        for j in range(2,new_img.shape[1]-2):\n",
    "            a = sorted([c[i-2][j-2],c[i-2][j-1],c[i-2][j],c[i-2][j+1],c[i-2][j+2],\n",
    "                        c[i-1][j-2],c[i-1][j-1],c[i-1][j],c[i-1][j+1],c[i-1][j+2],\n",
    "                        c[i][j-2],c[i][j-1],c[i][j],c[i][j+1],c[i][j+2],\n",
    "                        c[i+1][j-2],c[i+1][j-1],c[i+1][j],c[i+1][j+1],c[i+1][j+2],\n",
    "                        c[i+2][j-2],c[i+2][j-1],c[i+2][j],c[i+2][j+1],c[i+2][j+2]])\n",
    "            new_img[i][j] = a[12]\n",
    "\n",
    "   # First pass\n",
    "    img_c = copy.copy(new_img)\n",
    "    t = 1\n",
    "    d = {}\n",
    "    d[t] = t\n",
    "    for i in range(1,img_c.shape[0]-1):\n",
    "        for j in range(1,img_c.shape[1]-1):\n",
    "#             if img_c[i][j] > 0:\n",
    "#                 img_c[i][j]=t\n",
    "#     for i in range(1,img_c.shape[0]-1):\n",
    "#         for j in range(1,img_c.shape[1]-1):\n",
    "            if img_c[i][j] < 255:\n",
    "                if img_c[i-1][j-1] < 255 or img_c[i-1][j] < 255 or img_c[i-1][j+1] < 255 or img_c[i][j-1] < 255:\n",
    "                    a = [img_c[i-1][j-1],img_c[i-1][j],img_c[i-1][j+1],img_c[i][j-1]]\n",
    "                    a = [k for k in a if k < 255]\n",
    "                    img_c[i][j] = min(a)\n",
    "                else:\n",
    "                    img_c[i][j] = t\n",
    "                    t = t + 1\n",
    "                    d[t] = t\n",
    "\n",
    "    for i in range(1,img_c.shape[0]-1):\n",
    "        for j in range(1,img_c.shape[1]-1):\n",
    "            if img_c[i][j] < 255:\n",
    "                a = [img_c[i-1][j-1],img_c[i-1][j],img_c[i-1][j+1],\n",
    "                     img_c[i][j-1],img_c[i][j],img_c[i][j+1],\n",
    "                     img_c[i+1][j-1],img_c[i+1][j],img_c[i+1][j+1],d[img_c[i][j]]]\n",
    "                d[img_c[i][j]] = min([k for k in a if k < 255])\n",
    "    new_d = dict()\n",
    "    for keys,values in d.items():\n",
    "        new_d[values] = []\n",
    "    for keys,values in d.items():\n",
    "        new_d[values].append(keys)\n",
    "    key = sorted(new_d.keys())\n",
    "    key.reverse()\n",
    "    for i in key:\n",
    "        for j in new_d[i]:\n",
    "            if j != i and j in new_d.keys():\n",
    "                new_d[i].extend(new_d.pop(j))\n",
    "    new_d.pop(sorted(new_d.keys())[-1])            \n",
    "    nums = len(new_d)\n",
    "    \n",
    "    \n",
    "    \n",
    "    return new_img,nums,new_d,img_c"
   ]
  },
  {
   "cell_type": "code",
   "execution_count": 30,
   "metadata": {},
   "outputs": [],
   "source": [
    "a,b,c,d = task2(img)"
   ]
  },
  {
   "cell_type": "code",
   "execution_count": 99,
   "metadata": {},
   "outputs": [
    {
     "data": {
      "text/plain": [
       "(804, 604)"
      ]
     },
     "execution_count": 99,
     "metadata": {},
     "output_type": "execute_result"
    }
   ],
   "source": [
    "a.shape"
   ]
  },
  {
   "cell_type": "code",
   "execution_count": 8,
   "metadata": {},
   "outputs": [
    {
     "data": {
      "image/png": "[encoded data removed]",
      "text/plain": [
       "<Figure size 432x288 with 1 Axes>"
      ]
     },
     "metadata": {
      "needs_background": "light"
     },
     "output_type": "display_data"
    }
   ],
   "source": [
    "plt.imshow(a,cmap='gray')\n",
    "plt.show()"
   ]
  },
  {
   "cell_type": "code",
   "execution_count": 9,
   "metadata": {},
   "outputs": [
    {
     "data": {
      "text/plain": [
       "45"
      ]
     },
     "execution_count": 9,
     "metadata": {},
     "output_type": "execute_result"
    }
   ],
   "source": [
    "b"
   ]
  },
  {
   "cell_type": "code",
   "execution_count": 56,
   "metadata": {},
   "outputs": [
    {
     "data": {
      "text/plain": [
       "{1: 2}"
      ]
     },
     "execution_count": 56,
     "metadata": {},
     "output_type": "execute_result"
    }
   ],
   "source": [
    "di = {1:2,2:4}\n",
    "ttt=sorted(di.keys())[-1]\n",
    "di.pop(ttt)\n",
    "di"
   ]
  },
  {
   "cell_type": "code",
   "execution_count": 78,
   "metadata": {},
   "outputs": [
    {
     "data": {
      "text/plain": [
       "array([[0, 0, 0, ..., 0, 0, 0],\n",
       "       [0, 0, 0, ..., 0, 0, 0],\n",
       "       [0, 0, 0, ..., 0, 0, 0],\n",
       "       ...,\n",
       "       [0, 0, 0, ..., 0, 0, 0],\n",
       "       [0, 0, 0, ..., 0, 0, 0],\n",
       "       [0, 0, 0, ..., 0, 0, 0]], dtype=uint8)"
      ]
     },
     "execution_count": 78,
     "metadata": {},
     "output_type": "execute_result"
    }
   ],
   "source": [
    "d"
   ]
  },
  {
   "cell_type": "code",
   "execution_count": 36,
   "metadata": {
    "scrolled": true
   },
   "outputs": [
    {
     "data": {
      "text/plain": [
       "{1: [1, 2],\n",
       " 3: [3, 4, 5, 6, 7, 8, 9, 11, 13, 15],\n",
       " 10: [10, 12, 14],\n",
       " 16: [16,\n",
       "  17,\n",
       "  18,\n",
       "  20,\n",
       "  21,\n",
       "  22,\n",
       "  23,\n",
       "  24,\n",
       "  25,\n",
       "  26,\n",
       "  27,\n",
       "  28,\n",
       "  29,\n",
       "  30,\n",
       "  32,\n",
       "  34,\n",
       "  36,\n",
       "  38,\n",
       "  41],\n",
       " 19: [19],\n",
       " 31: [31, 33, 35],\n",
       " 37: [37, 39, 40],\n",
       " 42: [42, 43, 44, 45, 46],\n",
       " 47: [47],\n",
       " 48: [48, 49, 50, 51],\n",
       " 52: [52, 53, 54, 55, 56],\n",
       " 57: [57, 58, 59, 60, 61, 62],\n",
       " 63: [63],\n",
       " 64: [64, 65, 66],\n",
       " 67: [67, 68, 69, 70, 71],\n",
       " 72: [72],\n",
       " 73: [73, 74],\n",
       " 75: [75, 76, 78, 79, 80, 81, 82, 83, 84, 85, 86, 87, 88, 89, 90, 92, 91],\n",
       " 77: [77],\n",
       " 93: [93],\n",
       " 94: [94],\n",
       " 95: [95, 96, 97, 98, 100, 99],\n",
       " 101: [101, 102, 104],\n",
       " 103: [103, 109],\n",
       " 105: [105, 106, 107, 110],\n",
       " 108: [108, 111, 112, 113],\n",
       " 114: [114, 115, 116, 117],\n",
       " 118: [118,\n",
       "  119,\n",
       "  120,\n",
       "  121,\n",
       "  122,\n",
       "  123,\n",
       "  125,\n",
       "  126,\n",
       "  127,\n",
       "  128,\n",
       "  130,\n",
       "  131,\n",
       "  133,\n",
       "  135,\n",
       "  137,\n",
       "  138,\n",
       "  139,\n",
       "  140],\n",
       " 124: [124],\n",
       " 129: [129],\n",
       " 132: [132, 134, 136],\n",
       " 141: [141],\n",
       " 142: [142, 143, 144, 145, 153],\n",
       " 146: [146, 147, 148, 149, 150, 151, 154, 152],\n",
       " 155: [155, 156, 157, 158, 159, 161, 167, 160, 162],\n",
       " 163: [163, 165],\n",
       " 164: [164, 166, 168, 169, 170, 172, 174, 175, 176, 177, 178, 179, 180, 181],\n",
       " 171: [171, 173],\n",
       " 182: [182, 183],\n",
       " 184: [184],\n",
       " 185: [185, 186],\n",
       " 187: [187],\n",
       " 188: [188, 189],\n",
       " 190: [190, 191],\n",
       " 192: [192, 193]}"
      ]
     },
     "execution_count": 36,
     "metadata": {},
     "output_type": "execute_result"
    }
   ],
   "source": [
    "c\n"
   ]
  },
  {
   "cell_type": "code",
   "execution_count": 31,
   "metadata": {},
   "outputs": [],
   "source": [
    "def task3(new_d,img_c,min_area):\n",
    "    dd = dict()\n",
    "    l = len(new_d)\n",
    "    for key,value in new_d.items():\n",
    "        dd[key] = 0\n",
    "        for i in value:\n",
    "            dd[key] += np.sum(img_c==i)\n",
    "    s = []\n",
    "    ll = []\n",
    "    for key,value in dd.items():\n",
    "        if dd[key] >= min_area:\n",
    "            s.append(key)\n",
    "    for i in s:\n",
    "        ll.extend(new_d[i])\n",
    "    for i in range(img_c.shape[0]):\n",
    "        for j in range(img_c.shape[1]):\n",
    "            if img_c[i][j] in ll:\n",
    "                img_c[i][j] = 0\n",
    "            else:\n",
    "                img_c[i][j] = 255\n",
    "    re = (l-len(s))/l\n",
    "    return re,img_c,dd"
   ]
  },
  {
   "cell_type": "code",
   "execution_count": 32,
   "metadata": {},
   "outputs": [],
   "source": [
    "re,im,dd = task3(c,d,250)"
   ]
  },
  {
   "cell_type": "code",
   "execution_count": 33,
   "metadata": {},
   "outputs": [
    {
     "data": {
      "text/plain": [
       "0.13333333333333333"
      ]
     },
     "execution_count": 33,
     "metadata": {},
     "output_type": "execute_result"
    }
   ],
   "source": [
    "re"
   ]
  },
  {
   "cell_type": "code",
   "execution_count": 35,
   "metadata": {},
   "outputs": [
    {
     "data": {
      "text/plain": [
       "{1: 613,\n",
       " 4: 769,\n",
       " 9: 203,\n",
       " 12: 924,\n",
       " 14: 767,\n",
       " 15: 213,\n",
       " 18: 234,\n",
       " 24: 730,\n",
       " 25: 321,\n",
       " 26: 981,\n",
       " 37: 839,\n",
       " 46: 955,\n",
       " 52: 251,\n",
       " 54: 812,\n",
       " 55: 778,\n",
       " 57: 309,\n",
       " 58: 861,\n",
       " 60: 918,\n",
       " 64: 971,\n",
       " 71: 839,\n",
       " 76: 933,\n",
       " 79: 136,\n",
       " 81: 624,\n",
       " 83: 909,\n",
       " 85: 226,\n",
       " 87: 847,\n",
       " 88: 901,\n",
       " 90: 941,\n",
       " 94: 251,\n",
       " 96: 730,\n",
       " 98: 327,\n",
       " 106: 812,\n",
       " 108: 761,\n",
       " 110: 841,\n",
       " 112: 679,\n",
       " 118: 831,\n",
       " 119: 332,\n",
       " 124: 145,\n",
       " 126: 658,\n",
       " 130: 850,\n",
       " 132: 760,\n",
       " 149: 835,\n",
       " 151: 1011,\n",
       " 154: 765,\n",
       " 155: 709}"
      ]
     },
     "execution_count": 35,
     "metadata": {},
     "output_type": "execute_result"
    }
   ],
   "source": [
    "dd"
   ]
  },
  {
   "cell_type": "code",
   "execution_count": 26,
   "metadata": {},
   "outputs": [
    {
     "data": {
      "text/plain": [
       "[1,\n",
       " 2,\n",
       " 3,\n",
       " 4,\n",
       " 5,\n",
       " 6,\n",
       " 7,\n",
       " 8,\n",
       " 12,\n",
       " 13,\n",
       " 14,\n",
       " 16,\n",
       " 24,\n",
       " 25,\n",
       " 26,\n",
       " 27,\n",
       " 28,\n",
       " 29,\n",
       " 30,\n",
       " 31,\n",
       " 33,\n",
       " 35,\n",
       " 39,\n",
       " 42,\n",
       " 44,\n",
       " 32,\n",
       " 34,\n",
       " 36,\n",
       " 41,\n",
       " 43,\n",
       " 48,\n",
       " 37,\n",
       " 38,\n",
       " 40,\n",
       " 45,\n",
       " 46,\n",
       " 47,\n",
       " 49,\n",
       " 50,\n",
       " 51,\n",
       " 52,\n",
       " 53,\n",
       " 54,\n",
       " 55,\n",
       " 56,\n",
       " 57,\n",
       " 58,\n",
       " 59,\n",
       " 60,\n",
       " 61,\n",
       " 62,\n",
       " 63,\n",
       " 64,\n",
       " 65,\n",
       " 66,\n",
       " 67,\n",
       " 68,\n",
       " 69,\n",
       " 70,\n",
       " 71,\n",
       " 72,\n",
       " 73,\n",
       " 74,\n",
       " 78,\n",
       " 75,\n",
       " 76,\n",
       " 77,\n",
       " 81,\n",
       " 82,\n",
       " 83,\n",
       " 84,\n",
       " 87,\n",
       " 89,\n",
       " 88,\n",
       " 90,\n",
       " 91,\n",
       " 92,\n",
       " 93,\n",
       " 94,\n",
       " 95,\n",
       " 96,\n",
       " 97,\n",
       " 98,\n",
       " 99,\n",
       " 100,\n",
       " 101,\n",
       " 103,\n",
       " 105,\n",
       " 102,\n",
       " 104,\n",
       " 106,\n",
       " 107,\n",
       " 108,\n",
       " 109,\n",
       " 111,\n",
       " 115,\n",
       " 117,\n",
       " 116,\n",
       " 110,\n",
       " 112,\n",
       " 113,\n",
       " 114,\n",
       " 118,\n",
       " 119,\n",
       " 120,\n",
       " 121,\n",
       " 122,\n",
       " 123,\n",
       " 126,\n",
       " 127,\n",
       " 128,\n",
       " 129,\n",
       " 130,\n",
       " 131,\n",
       " 132,\n",
       " 133,\n",
       " 134,\n",
       " 135,\n",
       " 136,\n",
       " 137,\n",
       " 138,\n",
       " 139,\n",
       " 140,\n",
       " 141,\n",
       " 142,\n",
       " 143,\n",
       " 144,\n",
       " 145,\n",
       " 147,\n",
       " 146,\n",
       " 148,\n",
       " 149,\n",
       " 150,\n",
       " 151,\n",
       " 152,\n",
       " 153,\n",
       " 154,\n",
       " 155]"
      ]
     },
     "execution_count": 26,
     "metadata": {},
     "output_type": "execute_result"
    }
   ],
   "source": [
    "ll"
   ]
  },
  {
   "cell_type": "code",
   "execution_count": 107,
   "metadata": {},
   "outputs": [
    {
     "data": {
      "text/plain": [
       "0.22"
      ]
     },
     "execution_count": 107,
     "metadata": {},
     "output_type": "execute_result"
    }
   ],
   "source": [
    "round(re,2)"
   ]
  },
  {
   "cell_type": "code",
   "execution_count": 108,
   "metadata": {},
   "outputs": [
    {
     "data": {
      "text/plain": [
       "0.044444444444444446"
      ]
     },
     "execution_count": 108,
     "metadata": {},
     "output_type": "execute_result"
    }
   ],
   "source": [
    "2/45"
   ]
  },
  {
   "cell_type": "code",
   "execution_count": 104,
   "metadata": {},
   "outputs": [
    {
     "data": {
      "text/plain": [
       "[1,\n",
       " 3,\n",
       " 10,\n",
       " 16,\n",
       " 37,\n",
       " 42,\n",
       " 47,\n",
       " 48,\n",
       " 52,\n",
       " 57,\n",
       " 63,\n",
       " 64,\n",
       " 67,\n",
       " 75,\n",
       " 77,\n",
       " 95,\n",
       " 101,\n",
       " 108,\n",
       " 114,\n",
       " 118,\n",
       " 124,\n",
       " 129,\n",
       " 141,\n",
       " 142,\n",
       " 146,\n",
       " 155,\n",
       " 163,\n",
       " 164,\n",
       " 171,\n",
       " 182,\n",
       " 184,\n",
       " 185,\n",
       " 187,\n",
       " 190,\n",
       " 192]"
      ]
     },
     "execution_count": 104,
     "metadata": {},
     "output_type": "execute_result"
    }
   ],
   "source": [
    "s"
   ]
  },
  {
   "cell_type": "code",
   "execution_count": 105,
   "metadata": {},
   "outputs": [
    {
     "data": {
      "text/plain": [
       "[1,\n",
       " 2,\n",
       " 3,\n",
       " 4,\n",
       " 5,\n",
       " 6,\n",
       " 7,\n",
       " 8,\n",
       " 9,\n",
       " 11,\n",
       " 13,\n",
       " 15,\n",
       " 10,\n",
       " 12,\n",
       " 14,\n",
       " 16,\n",
       " 17,\n",
       " 18,\n",
       " 20,\n",
       " 21,\n",
       " 22,\n",
       " 23,\n",
       " 24,\n",
       " 25,\n",
       " 26,\n",
       " 27,\n",
       " 28,\n",
       " 29,\n",
       " 30,\n",
       " 32,\n",
       " 34,\n",
       " 36,\n",
       " 38,\n",
       " 41,\n",
       " 37,\n",
       " 39,\n",
       " 40,\n",
       " 42,\n",
       " 43,\n",
       " 44,\n",
       " 45,\n",
       " 46,\n",
       " 47,\n",
       " 48,\n",
       " 49,\n",
       " 50,\n",
       " 51,\n",
       " 52,\n",
       " 53,\n",
       " 54,\n",
       " 55,\n",
       " 56,\n",
       " 57,\n",
       " 58,\n",
       " 59,\n",
       " 60,\n",
       " 61,\n",
       " 62,\n",
       " 63,\n",
       " 64,\n",
       " 65,\n",
       " 66,\n",
       " 67,\n",
       " 68,\n",
       " 69,\n",
       " 70,\n",
       " 71,\n",
       " 75,\n",
       " 76,\n",
       " 78,\n",
       " 79,\n",
       " 80,\n",
       " 81,\n",
       " 82,\n",
       " 83,\n",
       " 84,\n",
       " 85,\n",
       " 86,\n",
       " 87,\n",
       " 88,\n",
       " 89,\n",
       " 90,\n",
       " 92,\n",
       " 91,\n",
       " 77,\n",
       " 95,\n",
       " 96,\n",
       " 97,\n",
       " 98,\n",
       " 100,\n",
       " 99,\n",
       " 101,\n",
       " 102,\n",
       " 104,\n",
       " 108,\n",
       " 111,\n",
       " 112,\n",
       " 113,\n",
       " 114,\n",
       " 115,\n",
       " 116,\n",
       " 117,\n",
       " 118,\n",
       " 119,\n",
       " 120,\n",
       " 121,\n",
       " 122,\n",
       " 123,\n",
       " 125,\n",
       " 126,\n",
       " 127,\n",
       " 128,\n",
       " 130,\n",
       " 131,\n",
       " 133,\n",
       " 135,\n",
       " 137,\n",
       " 138,\n",
       " 139,\n",
       " 140,\n",
       " 124,\n",
       " 129,\n",
       " 141,\n",
       " 142,\n",
       " 143,\n",
       " 144,\n",
       " 145,\n",
       " 153,\n",
       " 146,\n",
       " 147,\n",
       " 148,\n",
       " 149,\n",
       " 150,\n",
       " 151,\n",
       " 154,\n",
       " 152,\n",
       " 155,\n",
       " 156,\n",
       " 157,\n",
       " 158,\n",
       " 159,\n",
       " 161,\n",
       " 167,\n",
       " 160,\n",
       " 162,\n",
       " 163,\n",
       " 165,\n",
       " 164,\n",
       " 166,\n",
       " 168,\n",
       " 169,\n",
       " 170,\n",
       " 172,\n",
       " 174,\n",
       " 175,\n",
       " 176,\n",
       " 177,\n",
       " 178,\n",
       " 179,\n",
       " 180,\n",
       " 181,\n",
       " 171,\n",
       " 173,\n",
       " 182,\n",
       " 183,\n",
       " 184,\n",
       " 185,\n",
       " 186,\n",
       " 187,\n",
       " 190,\n",
       " 191,\n",
       " 192,\n",
       " 193]"
      ]
     },
     "execution_count": 105,
     "metadata": {},
     "output_type": "execute_result"
    }
   ],
   "source": [
    "ll"
   ]
  },
  {
   "cell_type": "code",
   "execution_count": 17,
   "metadata": {},
   "outputs": [
    {
     "data": {
      "image/png": "[encoded data removed]",
      "text/plain": [
       "<Figure size 432x288 with 1 Axes>"
      ]
     },
     "metadata": {
      "needs_background": "light"
     },
     "output_type": "display_data"
    }
   ],
   "source": [
    "plt.imshow(im,cmap='gray')\n",
    "plt.show()"
   ]
  },
  {
   "cell_type": "code",
   "execution_count": 28,
   "metadata": {},
   "outputs": [],
   "source": [
    "def task3(c,min_a):\n",
    "    "
   ]
  },
  {
   "cell_type": "code",
   "execution_count": 29,
   "metadata": {},
   "outputs": [],
   "source": [
    "p = connected(a)"
   ]
  },
  {
   "cell_type": "code",
   "execution_count": 30,
   "metadata": {},
   "outputs": [
    {
     "name": "stdout",
     "output_type": "stream",
     "text": [
      "{1: [1], 2: [2], 3: [3], 4: [4], 5: [5], 6: [6], 7: [7, 8], 9: [9], 10: [10], 11: [11], 12: [12], 13: [13], 14: [14], 15: [15], 16: [16, 17, 18, 19], 20: [20], 21: [21, 22, 24, 26, 27, 28, 29, 30], 23: [23], 25: [25], 31: [31], 32: [32, 33], 34: [34, 35, 36, 37], 38: [38, 39, 40, 41], 42: [42], 43: [43], 44: [44, 45], 46: [46, 47, 48], 49: [49, 50, 51, 52, 53, 54, 55, 56, 57, 58, 59, 60, 61, 62, 63], 64: [64], 65: [65, 66, 67, 68, 69, 71, 73, 77, 70, 72, 75, 80, 84, 87, 89], 74: [74, 76, 78, 79, 81, 82, 85, 88, 90, 91], 83: [83, 86], 92: [92], 93: [93, 94, 95, 96], 97: [97]}\n"
     ]
    }
   ],
   "source": [
    "print(p)"
   ]
  },
  {
   "cell_type": "code",
   "execution_count": 140,
   "metadata": {},
   "outputs": [
    {
     "name": "stdout",
     "output_type": "stream",
     "text": [
      "<class 'numpy.ndarray'>\n"
     ]
    }
   ],
   "source": [
    "print(type(img))"
   ]
  },
  {
   "cell_type": "code",
   "execution_count": 126,
   "metadata": {},
   "outputs": [
    {
     "name": "stdout",
     "output_type": "stream",
     "text": [
      "[157, 155, 154, 151, 149, 146, 145, 144, 143, 142, 140, 139, 138, 137, 136, 135, 134, 133, 132, 130, 127, 126, 124, 121, 120, 119, 118, 115, 113, 112, 111, 110, 109, 108, 106, 103, 102, 101, 100, 99, 98, 96, 94, 91, 90, 88, 87, 85, 83, 81, 79, 76, 74, 73, 72, 71, 69, 68, 67, 66, 65, 64, 61, 60, 58, 57, 55, 54, 52, 50, 49, 46, 43, 42, 41, 39, 38, 37, 36, 35, 34, 33, 32, 31, 30, 29, 28, 27, 26, 25, 24, 21, 20, 19, 18, 15, 14, 12, 10, 9, 6, 5, 4, 2, 1]\n",
      "{1: [1, 2, 3], 4: [4, 5, 6, 7, 8], 9: [9, 10, 11], 12: [12, 13], 14: [14, 16], 15: [15, 17], 18: [18, 19, 20, 21, 22, 23], 24: [24], 25: [25], 26: [26, 27, 28, 29, 30, 31, 33, 35, 39, 42, 44, 32, 34, 36, 41, 43, 48], 37: [37, 38, 40, 45], 46: [46, 47, 49, 50, 51], 52: [52, 53], 54: [54], 55: [55, 56], 57: [57], 58: [58, 59], 60: [60, 61, 62, 63], 64: [64, 65, 66, 67, 68, 69, 70], 71: [71, 72, 73, 74, 78, 75], 76: [76, 77], 79: [79, 80], 81: [81, 82], 83: [83, 84], 85: [85, 86], 87: [87, 89], 88: [88], 90: [90, 91, 92, 93], 94: [94, 95], 96: [96, 97], 98: [98, 99, 100, 101, 103, 105, 102, 104], 106: [106, 107], 108: [108, 109, 111, 115, 117, 116], 110: [110], 112: [112, 113, 114], 118: [118], 119: [119, 120, 121, 122, 123], 124: [124, 125], 126: [126, 127, 128, 129], 130: [130, 131], 132: [132, 133, 134, 135, 136, 137, 138, 139, 140, 141, 142, 143, 144, 145, 147, 146, 148], 149: [149, 150], 151: [151, 152, 153], 154: [154], 155: [155, 156], 157: [157]}\n"
     ]
    }
   ],
   "source": [
    "key = sorted(b.keys())\n",
    "\n",
    "key.reverse()\n",
    "print(key)\n",
    "for i in key:\n",
    "    #print('i',i)\n",
    "    for j in b[i]:\n",
    "        #print('j',j)\n",
    "        if j != i and j in b.keys():\n",
    "            #print(b)\n",
    "            #print(j,i)\n",
    "            b[i].extend(b.pop(j))\n",
    "print(b)\n",
    "            \n"
   ]
  },
  {
   "cell_type": "code",
   "execution_count": 135,
   "metadata": {},
   "outputs": [
    {
     "name": "stdout",
     "output_type": "stream",
     "text": [
      "[157, 155, 154, 151, 149, 146, 145, 144, 143, 142, 140, 139, 138, 137, 136, 135, 134, 133, 132, 130, 127, 126, 124, 121, 120, 119, 118, 115, 113, 112, 111, 110, 109, 108, 106, 103, 102, 101, 100, 99, 98, 96, 94, 91, 90, 88, 87, 85, 83, 81, 79, 76, 74, 73, 72, 71, 69, 68, 67, 66, 65, 64, 61, 60, 58, 57, 55, 54, 52, 50, 49, 46, 43, 42, 41, 39, 38, 37, 36, 35, 34, 33, 32, 31, 30, 29, 28, 27, 26, 25, 24, 21, 20, 19, 18, 15, 14, 12, 10, 9, 6, 5, 4, 2, 1]\n",
      "{1: [1, 2, 3], 4: [4, 5, 6, 7, 8], 9: [9, 10, 11], 12: [12, 13], 14: [14, 16], 15: [15, 17], 18: [18, 19, 20, 21, 22, 23], 24: [24], 25: [25], 26: [26, 27, 28, 29, 30, 31, 33, 35, 39, 42, 44, 32, 34, 36, 41, 43, 48], 37: [37, 38, 40, 45], 46: [46, 47, 49, 50, 51], 52: [52, 53], 54: [54], 55: [55, 56], 57: [57], 58: [58, 59], 60: [60, 61, 62, 63], 64: [64, 65, 66, 67, 68, 69, 70], 71: [71, 72, 73, 74, 78, 75], 76: [76, 77], 79: [79, 80], 81: [81, 82], 83: [83, 84], 85: [85, 86], 87: [87, 89], 88: [88], 90: [90, 91, 92, 93], 94: [94, 95], 96: [96, 97], 98: [98, 99, 100, 101, 103, 105, 102, 104], 106: [106, 107], 108: [108, 109, 111, 115, 117, 116], 110: [110], 112: [112, 113, 114], 118: [118], 119: [119, 120, 121, 122, 123], 124: [124, 125], 126: [126, 127, 128, 129], 130: [130, 131], 132: [132, 133, 134, 135, 136, 137, 138, 139, 140, 141, 142, 143, 144, 145, 147, 146, 148], 149: [149, 150], 151: [151, 152, 153], 154: [154], 155: [155, 156], 157: [157]}\n"
     ]
    }
   ],
   "source": [
    "key = sorted(b.keys())\n",
    "\n",
    "key.reverse()\n",
    "print(key)\n",
    "for i in key:\n",
    "    #print('i',i)\n",
    "    for j in b[i]:\n",
    "        #print('j',j)\n",
    "        if j != i and j in b.keys():\n",
    "            #print(b)\n",
    "            #print(j,i)\n",
    "            b[i].extend(b.pop(j))\n",
    "print(b)"
   ]
  },
  {
   "cell_type": "code",
   "execution_count": 136,
   "metadata": {},
   "outputs": [
    {
     "name": "stdout",
     "output_type": "stream",
     "text": [
      "46\n"
     ]
    }
   ],
   "source": [
    "print(len(b))"
   ]
  },
  {
   "cell_type": "code",
   "execution_count": 93,
   "metadata": {},
   "outputs": [
    {
     "data": {
      "text/plain": [
       "array([[  0,   0,   0, ...,   0,   0,   0],\n",
       "       [  0,   0,   0, ...,   0,   0,   0],\n",
       "       [  0,   0,   0, ...,   0,   0,   0],\n",
       "       ...,\n",
       "       [255, 255, 255, ..., 255, 255, 255],\n",
       "       [255, 255, 255, ..., 255, 255, 255],\n",
       "       [255, 255, 255, ...,   0,   0,   0]], dtype=uint8)"
      ]
     },
     "execution_count": 93,
     "metadata": {},
     "output_type": "execute_result"
    }
   ],
   "source": [
    "img[340:400,180:200]"
   ]
  },
  {
   "cell_type": "code",
   "execution_count": 72,
   "metadata": {
    "scrolled": true
   },
   "outputs": [
    {
     "data": {
      "text/plain": [
       "{1: 1,\n",
       " 2: 1,\n",
       " 3: 2,\n",
       " 4: 4,\n",
       " 5: 4,\n",
       " 6: 5,\n",
       " 7: 6,\n",
       " 8: 6,\n",
       " 9: 9,\n",
       " 10: 9,\n",
       " 11: 10,\n",
       " 12: 12,\n",
       " 13: 12,\n",
       " 14: 14,\n",
       " 15: 15,\n",
       " 16: 14,\n",
       " 17: 15,\n",
       " 18: 18,\n",
       " 19: 18,\n",
       " 20: 19,\n",
       " 21: 20,\n",
       " 22: 21,\n",
       " 23: 21,\n",
       " 24: 24,\n",
       " 25: 25,\n",
       " 26: 26,\n",
       " 27: 26,\n",
       " 28: 27,\n",
       " 29: 28,\n",
       " 30: 28,\n",
       " 31: 29,\n",
       " 32: 30,\n",
       " 33: 31,\n",
       " 34: 32,\n",
       " 35: 33,\n",
       " 36: 34,\n",
       " 37: 37,\n",
       " 38: 37,\n",
       " 39: 35,\n",
       " 40: 38,\n",
       " 41: 36,\n",
       " 42: 39,\n",
       " 43: 41,\n",
       " 44: 42,\n",
       " 45: 38,\n",
       " 46: 46,\n",
       " 47: 46,\n",
       " 48: 43,\n",
       " 49: 46,\n",
       " 50: 49,\n",
       " 51: 50,\n",
       " 52: 52,\n",
       " 53: 52,\n",
       " 54: 54,\n",
       " 55: 55,\n",
       " 56: 55,\n",
       " 57: 57,\n",
       " 58: 58,\n",
       " 59: 58,\n",
       " 60: 60,\n",
       " 61: 60,\n",
       " 62: 61,\n",
       " 63: 61,\n",
       " 64: 64,\n",
       " 65: 64,\n",
       " 66: 65,\n",
       " 67: 66,\n",
       " 68: 67,\n",
       " 69: 68,\n",
       " 70: 69,\n",
       " 71: 71,\n",
       " 72: 71,\n",
       " 73: 71,\n",
       " 74: 72,\n",
       " 75: 73,\n",
       " 76: 76,\n",
       " 77: 76,\n",
       " 78: 74,\n",
       " 79: 79,\n",
       " 80: 79,\n",
       " 81: 81,\n",
       " 82: 81,\n",
       " 83: 83,\n",
       " 84: 83,\n",
       " 85: 85,\n",
       " 86: 85,\n",
       " 87: 87,\n",
       " 88: 88,\n",
       " 89: 87,\n",
       " 90: 90,\n",
       " 91: 90,\n",
       " 92: 90,\n",
       " 93: 91,\n",
       " 94: 94,\n",
       " 95: 94,\n",
       " 96: 96,\n",
       " 97: 96,\n",
       " 98: 98,\n",
       " 99: 98,\n",
       " 100: 98,\n",
       " 101: 99,\n",
       " 102: 100,\n",
       " 103: 101,\n",
       " 104: 102,\n",
       " 105: 103,\n",
       " 106: 106,\n",
       " 107: 106,\n",
       " 108: 108,\n",
       " 109: 108,\n",
       " 110: 110,\n",
       " 111: 108,\n",
       " 112: 112,\n",
       " 113: 112,\n",
       " 114: 113,\n",
       " 115: 109,\n",
       " 116: 111,\n",
       " 117: 115,\n",
       " 118: 118,\n",
       " 119: 119,\n",
       " 120: 119,\n",
       " 121: 119,\n",
       " 122: 120,\n",
       " 123: 121,\n",
       " 124: 124,\n",
       " 125: 124,\n",
       " 126: 126,\n",
       " 127: 126,\n",
       " 128: 127,\n",
       " 129: 127,\n",
       " 130: 130,\n",
       " 131: 130,\n",
       " 132: 132,\n",
       " 133: 132,\n",
       " 134: 133,\n",
       " 135: 134,\n",
       " 136: 135,\n",
       " 137: 136,\n",
       " 138: 137,\n",
       " 139: 138,\n",
       " 140: 139,\n",
       " 141: 139,\n",
       " 142: 140,\n",
       " 143: 142,\n",
       " 144: 142,\n",
       " 145: 143,\n",
       " 146: 144,\n",
       " 147: 145,\n",
       " 148: 146,\n",
       " 149: 149,\n",
       " 150: 149,\n",
       " 151: 151,\n",
       " 152: 151,\n",
       " 153: 151,\n",
       " 154: 154,\n",
       " 155: 155,\n",
       " 156: 155,\n",
       " 157: 157}"
      ]
     },
     "execution_count": 72,
     "metadata": {},
     "output_type": "execute_result"
    }
   ],
   "source": [
    "dic"
   ]
  },
  {
   "cell_type": "code",
   "execution_count": 61,
   "metadata": {},
   "outputs": [
    {
     "data": {
      "text/plain": [
       "7027"
      ]
     },
     "execution_count": 61,
     "metadata": {},
     "output_type": "execute_result"
    }
   ],
   "source": [
    "num"
   ]
  },
  {
   "cell_type": "code",
   "execution_count": 13,
   "metadata": {},
   "outputs": [],
   "source": [
    "d = copy.copy(img)"
   ]
  },
  {
   "cell_type": "code",
   "execution_count": 160,
   "metadata": {},
   "outputs": [],
   "source": [
    "dim = (img.shape[0]+20,img.shape[1]+20)\n",
    "resized =cv2.resize(a,dim)"
   ]
  },
  {
   "cell_type": "code",
   "execution_count": 4,
   "metadata": {},
   "outputs": [],
   "source": [
    "cv2.imshow('image',a)\n",
    "cv2.waitKey(0)\n",
    "cv2.destroyAllWindows()"
   ]
  },
  {
   "cell_type": "code",
   "execution_count": 23,
   "metadata": {},
   "outputs": [],
   "source": [
    "def task2(img):\n",
    "    t = 0\n",
    "    re = cv2.medianBlur(img,3)\n",
    "    img = re\n",
    "    # First pass\n",
    "    for i in range(img.shape[0]):\n",
    "        for j in range(img.shape[1]):\n",
    "            \n",
    "            if img[i][j]!=255:\n",
    "                if i!=0 and j!=0 and j!=img.shape[1]-1:\n",
    "                    if img[i-1][j-1]!=255 or img[i-1][j]!=255 or img[i-1][j+1]!=255 or img[i][j-1]!=255:\n",
    "                        a=[k for k in [img[i-1][j-1],img[i-1][j],img[i-1][j+1],img[i][j-1]]]\n",
    "                        img[i][j] = min(a)\n",
    "                    else:\n",
    "                        img[i][j]=t\n",
    "                        t=t+1\n",
    "                elif i==0 and j!=0:\n",
    "                    if img[i][j-1]!=255:\n",
    "                        img[i][j] = img[i][j-1]\n",
    "                    else:\n",
    "                        img[i][j]=t\n",
    "                        t=t+1\n",
    "                elif i==0 and j==0:\n",
    "                    img[i][j]=t\n",
    "                    t=t+1\n",
    "                elif i!=0 and j==0:\n",
    "                    if img[i-1][j]!=255 or img[i-1][j+1]!=255:\n",
    "                        a = [k for k in [img[i-1][j],img[i-1][j+1]]]\n",
    "                        img[i][j] = min(a)\n",
    "                    else:\n",
    "                        img[i][j]=t\n",
    "                        t=t+1\n",
    "                elif i!=0 and j==img.shape[1]-1:\n",
    "                    if img[i-1][j-1]!=255 or img[i-1][j]!=255 or img[i][j-1]!=255:\n",
    "                        a = [k for k in [img[i-1][j-1],img[i-1][j],img[i][j-1]]]\n",
    "                        img[i][j]=min(a)\n",
    "                    else:\n",
    "                        img[i][j]=t\n",
    "                        t=t+1\n",
    "    \n",
    "    for i in range(img.shape[0]):\n",
    "        for j in range(img.shape[1]):\n",
    "            if img[i][j]!=255:\n",
    "                if i!=0 and j!=0 and i!=img.shape[0]-1 and j!=img.shape[1]-1:\n",
    "                    a=[k for k in [img[i-1][j-1],img[i-1][j],img[i-1][j+1],img[i][j-1],img[i][j],img[i][j+1],img[i+1][j-1],img[i+1][j],img[i+1][j+1]]]\n",
    "                    img[i][j]=min(a)\n",
    "                elif i==0 and j==0:\n",
    "                    img[0][0] = min([img[0][0],img[0][1],img[1][0],img[1][1]])\n",
    "                elif i==0 and j==img.shape[1]-1:\n",
    "                    img[i][j]=min([img[i][j-1],img[i][j],img[i+1][j-1],img[i+1][j]])\n",
    "                elif i==0 and j!=0 and j!=img.shape[1]-1:\n",
    "                    img[i][j]=min([img[i][j-1],img[i][j],img[i][j+1],img[i+1][j-1],img[i+1][j],img[i+1][j+1]])\n",
    "                elif i==img.shape[0]-1 and j==0:\n",
    "                    img[i][j]=min([img[i-1][j],img[i-1][j+1],img[i][j],img[i][j+1]])\n",
    "                elif i==img.shape[0]-1 and j==img.shape[1]-1:\n",
    "                    img[i][j]=min([img[i-1][j-1],img[i-1][j],img[i][j-1],img[i][j]])\n",
    "                elif i==img.shape[0]-1 and j!=0 and j!=img.shape[1]-1:\n",
    "                    img[i][j]=min([img[i-1][j-1],img[i-1][j],img[i-1][j+1],img[i][j-1],img[i][j],img[i][j+1]])\n",
    "                elif i!=0 and i!=img.shape[0]-1 and j==0:\n",
    "                    img[i][j]=min([img[i-1][j],img[i-1][j+1],img[i][j],img[i][j+1],img[i+1][j],img[i+1][j+1]])\n",
    "                elif i!=0 and i!=img.shape[0]-1 and j==img.shape[1]-1:\n",
    "                    img[i][j]=min([img[i-1][j-1],img[i-1][j],img[i][j-1],img[i][j],img[i+1][j-1],img[i+1][j]])\n",
    "    # Second pass\n",
    "    for i in range(img.shape[0]):\n",
    "        for j in range(img.shape[1]):\n",
    "            if img[i][j]!=255:\n",
    "                if i!=0 and j!=0 and i!=img.shape[0]-1 and j!=img.shape[1]-1:\n",
    "                    a=[k for k in [img[i-1][j-1],img[i-1][j],img[i-1][j+1],img[i][j-1],img[i][j],img[i][j+1],img[i+1][j-1],img[i+1][j],img[i+1][j+1]]]\n",
    "                    img[i][j]=min(a)\n",
    "                elif i==0 and j==0:\n",
    "                    img[0][0] = min([img[0][0],img[0][1],img[1][0],img[1][1]])\n",
    "                elif i==0 and j==img.shape[1]-1:\n",
    "                    img[i][j]=min([img[i][j-1],img[i][j],img[i+1][j-1],img[i+1][j]])\n",
    "                elif i==0 and j!=0 and j!=img.shape[1]-1:\n",
    "                    img[i][j]=min([img[i][j-1],img[i][j],img[i][j+1],img[i+1][j-1],img[i+1][j],img[i+1][j+1]])\n",
    "                elif i==img.shape[0]-1 and j==0:\n",
    "                    img[i][j]=min([img[i-1][j],img[i-1][j+1],img[i][j],img[i][j+1]])\n",
    "                elif i==img.shape[0]-1 and j==img.shape[1]-1:\n",
    "                    img[i][j]=min([img[i-1][j-1],img[i-1][j],img[i][j-1],img[i][j]])\n",
    "                elif i==img.shape[0]-1 and j!=0 and j!=img.shape[1]-1:\n",
    "                    img[i][j]=min([img[i-1][j-1],img[i-1][j],img[i-1][j+1],img[i][j-1],img[i][j],img[i][j+1]])\n",
    "                elif i!=0 and i!=img.shape[0]-1 and j==0:\n",
    "                    img[i][j]=min([img[i-1][j],img[i-1][j+1],img[i][j],img[i][j+1],img[i+1][j],img[i+1][j+1]])\n",
    "                elif i!=0 and i!=img.shape[0]-1 and j==img.shape[1]-1:\n",
    "                    img[i][j]=min([img[i-1][j-1],img[i-1][j],img[i][j-1],img[i][j],img[i+1][j-1],img[i+1][j]])\n",
    "    nums = []\n",
    "    for i in range(img.shape[0]):\n",
    "        for j in range(img.shape[1]):\n",
    "            if img[i][j] not in nums and img[i][j] != 255:\n",
    "                nums.append(img[i][j])\n",
    "    \n",
    "    \n",
    "    \n",
    "    return re,len(nums)                        \n",
    "#img = task2(img)"
   ]
  },
  {
   "cell_type": "code",
   "execution_count": 24,
   "metadata": {},
   "outputs": [],
   "source": [
    "a,b=task2(img)"
   ]
  },
  {
   "cell_type": "code",
   "execution_count": 25,
   "metadata": {},
   "outputs": [
    {
     "data": {
      "text/plain": [
       "37"
      ]
     },
     "execution_count": 25,
     "metadata": {},
     "output_type": "execute_result"
    }
   ],
   "source": [
    "b"
   ]
  },
  {
   "cell_type": "code",
   "execution_count": 24,
   "metadata": {},
   "outputs": [],
   "source": [
    "cv2.imshow('image',a)\n",
    "cv2.waitKey(0)\n",
    "cv2.destroyAllWindows()"
   ]
  },
  {
   "cell_type": "code",
   "execution_count": 44,
   "metadata": {},
   "outputs": [
    {
     "data": {
      "text/plain": [
       "array([[0, 0, 0, ..., 0, 0, 0],\n",
       "       [0, 0, 0, ..., 0, 0, 0],\n",
       "       [0, 0, 0, ..., 0, 0, 0],\n",
       "       ...,\n",
       "       [0, 0, 0, ..., 0, 0, 0],\n",
       "       [0, 0, 0, ..., 0, 0, 0],\n",
       "       [0, 0, 0, ..., 0, 0, 0]], dtype=uint8)"
      ]
     },
     "execution_count": 44,
     "metadata": {},
     "output_type": "execute_result"
    }
   ],
   "source": [
    "img"
   ]
  },
  {
   "cell_type": "code",
   "execution_count": null,
   "metadata": {},
   "outputs": [],
   "source": [
    "def task3(img,min_area):\n",
    "    "
   ]
  }
 ],
 "metadata": {
  "kernelspec": {
   "display_name": "Python 3",
   "language": "python",
   "name": "python3"
  },
  "language_info": {
   "codemirror_mode": {
    "name": "ipython",
    "version": 3
   },
   "file_extension": ".py",
   "mimetype": "text/x-python",
   "name": "python",
   "nbconvert_exporter": "python",
   "pygments_lexer": "ipython3",
   "version": "3.7.9"
  }
 },
 "nbformat": 4,
 "nbformat_minor": 4
}
