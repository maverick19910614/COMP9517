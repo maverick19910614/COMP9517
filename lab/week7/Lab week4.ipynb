{
 "cells": [
  {
   "cell_type": "code",
   "execution_count": 1,
   "metadata": {},
   "outputs": [],
   "source": [
    "import numpy as np\n",
    "import cv2\n",
    "import matplotlib.pyplot as plt\n",
    "from sklearn.svm import SVC\n",
    "from sklearn.neighbors import KNeighborsClassifier\n",
    "from sklearn.ensemble import RandomForestClassifier\n",
    "from sklearn.model_selection import train_test_split\n",
    "from sklearn.metrics import accuracy_score\n",
    "from sklearn.metrics import recall_score\n",
    "from sklearn.metrics import confusion_matrix\n",
    "from sklearn.preprocessing import StandardScaler\n",
    "from sklearn.datasets import load_digits"
   ]
  },
  {
   "cell_type": "code",
   "execution_count": 2,
   "metadata": {},
   "outputs": [],
   "source": [
    "digits = load_digits(return_X_y = True, as_frame = True)\n",
    "data = digits[0]\n",
    "labels = digits[1]"
   ]
  },
  {
   "cell_type": "code",
   "execution_count": 3,
   "metadata": {},
   "outputs": [],
   "source": [
    "x_train, x_test, y_train, y_test = train_test_split(data,labels,test_size = 0.25)"
   ]
  },
  {
   "cell_type": "code",
   "execution_count": 4,
   "metadata": {},
   "outputs": [
    {
     "name": "stdout",
     "output_type": "stream",
     "text": [
      "Accuracy for SVM is  0.9933333333333333\n",
      "Recall for SVM is  0.9935007122507121\n"
     ]
    }
   ],
   "source": [
    "# SVM\n",
    "svm_model = SVC()\n",
    "svm_model.fit(x_train,y_train)\n",
    "svm_prediction = svm_model.predict(x_test)\n",
    "svm_acc = accuracy_score(y_test, svm_prediction)\n",
    "svm_re = recall_score(y_test, svm_prediction, average = 'macro')\n",
    "svm_con = confusion_matrix(y_test, svm_prediction)\n",
    "print('Accuracy for SVM is ',svm_acc)\n",
    "print('Recall for SVM is ', svm_re)"
   ]
  },
  {
   "cell_type": "code",
   "execution_count": 5,
   "metadata": {},
   "outputs": [
    {
     "name": "stdout",
     "output_type": "stream",
     "text": [
      "Accuracy for Random forest is  0.9866666666666667\n",
      "Recall for Random forest is  0.9865261770749576\n"
     ]
    }
   ],
   "source": [
    "# Random Forest\n",
    "rf_model = RandomForestClassifier()\n",
    "rf_model.fit(x_train,y_train)\n",
    "rf_prediction = rf_model.predict(x_test)\n",
    "rf_acc = accuracy_score(y_test, rf_prediction)\n",
    "rf_re = recall_score(y_test, rf_prediction, average = 'macro')\n",
    "rf_con = confusion_matrix(y_test, rf_prediction)\n",
    "print('Accuracy for Random forest is ',rf_acc)\n",
    "print('Recall for Random forest is ', rf_re)"
   ]
  },
  {
   "cell_type": "code",
   "execution_count": 6,
   "metadata": {
    "scrolled": true
   },
   "outputs": [
    {
     "data": {
      "image/png": "[encoded data removed]",
      "text/plain": [
       "<Figure size 432x288 with 1 Axes>"
      ]
     },
     "metadata": {
      "needs_background": "light"
     },
     "output_type": "display_data"
    },
    {
     "name": "stdout",
     "output_type": "stream",
     "text": [
      "Accuracy for KNN is  0.9888888888888889\n",
      "Recall for KNN is  0.9891808288610614\n"
     ]
    }
   ],
   "source": [
    "# KNN\n",
    "k_list = [3,5,7,9,11,13,15]\n",
    "acc_list = []\n",
    "re_list = []\n",
    "con_list = []\n",
    "for i in k_list:\n",
    "    knn_model = KNeighborsClassifier(n_neighbors = i)\n",
    "    knn_model.fit(x_train,y_train)\n",
    "    knn_prediction = knn_model.predict(x_test)\n",
    "    acc_list.append(accuracy_score(y_test, knn_prediction))\n",
    "    re_list.append(recall_score(y_test, knn_prediction, average = 'macro'))\n",
    "    con_list.append(confusion_matrix(y_test, knn_prediction))\n",
    "titles = 'KNN Evaluation Result'\n",
    "plt.title(titles)\n",
    "plt.plot(k_list,acc_list,color = 'r',label = 'Accuracy')\n",
    "plt.plot(k_list,re_list,color = 'g',label = 'Recall')\n",
    "#plt.plot(k_list,con_list,color = 'b',label = 'Confusion Matrix')\n",
    "plt.legend()\n",
    "plt.xlabel('The number of K')\n",
    "plt.ylabel('Rate')\n",
    "plt.show()\n",
    "print('Accuracy for KNN is ',max(acc_list))\n",
    "print('Recall for KNN is ', max(re_list))"
   ]
  },
  {
   "cell_type": "code",
   "execution_count": 7,
   "metadata": {},
   "outputs": [
    {
     "data": {
      "text/plain": [
       "array([[47,  0,  0,  0,  0,  0,  0,  0,  0,  0],\n",
       "       [ 0, 40,  0,  0,  0,  0,  0,  0,  0,  0],\n",
       "       [ 0,  0, 42,  0,  0,  0,  0,  0,  0,  0],\n",
       "       [ 0,  0,  0, 43,  0,  0,  0,  0,  0,  0],\n",
       "       [ 0,  0,  0,  0, 53,  0,  0,  0,  1,  0],\n",
       "       [ 0,  0,  0,  0,  0, 38,  0,  0,  0,  1],\n",
       "       [ 0,  0,  0,  0,  0,  0, 44,  0,  0,  0],\n",
       "       [ 0,  0,  0,  0,  0,  0,  0, 41,  0,  0],\n",
       "       [ 0,  0,  0,  0,  0,  0,  0,  0, 52,  0],\n",
       "       [ 0,  0,  0,  0,  0,  1,  0,  0,  0, 47]], dtype=int64)"
      ]
     },
     "execution_count": 7,
     "metadata": {},
     "output_type": "execute_result"
    }
   ],
   "source": [
    "#  The confusion matrix of the best-performing classifier\n",
    "svm_con"
   ]
  },
  {
   "cell_type": "code",
   "execution_count": null,
   "metadata": {},
   "outputs": [],
   "source": []
  }
 ],
 "metadata": {
  "kernelspec": {
   "display_name": "Python 3",
   "language": "python",
   "name": "python3"
  },
  "language_info": {
   "codemirror_mode": {
    "name": "ipython",
    "version": 3
   },
   "file_extension": ".py",
   "mimetype": "text/x-python",
   "name": "python",
   "nbconvert_exporter": "python",
   "pygments_lexer": "ipython3",
   "version": "3.7.9"
  }
 },
 "nbformat": 4,
 "nbformat_minor": 4
}
